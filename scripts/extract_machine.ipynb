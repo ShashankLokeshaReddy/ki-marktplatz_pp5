{
 "cells": [
  {
   "cell_type": "code",
   "execution_count": 22,
   "metadata": {
    "collapsed": true
   },
   "outputs": [],
   "source": [
    "import pandas as pd"
   ]
  },
  {
   "cell_type": "code",
   "execution_count": 23,
   "outputs": [],
   "source": [
    "df = pd.read_excel(\"../data/Auftragsfolgen-20211207.xlsx\")"
   ],
   "metadata": {
    "collapsed": false,
    "pycharm": {
     "name": "#%%\n"
    }
   }
  },
  {
   "cell_type": "code",
   "execution_count": 24,
   "outputs": [
    {
     "data": {
      "text/plain": "          Fefco_Teil ArtNr_Teil  ID_Druck  Druckflaeche  Bogen_Laenge_Brutto  \\\n0        0201 GT man      11307         1          0.10               2808.0   \n1             0201 G      10039         1          0.10               2168.0   \n2         0410 NJA Q      16906         1          0.10               2029.0   \n3       0201 T (S/T)      18198         1          0.10               4508.0   \n4         0200 G man      11068         1          0.03                925.0   \n...              ...        ...       ...           ...                  ...   \n529202        0201 G      25160         0           NaN               1221.0   \n529203    0200 G man      28911         0           NaN               3982.0   \n529204        0201 G      25160         0           NaN               1221.0   \n529205    0200 G man      28911         0           NaN               3982.0   \n529206        0201 G      25160         0           NaN               1221.0   \n\n        Bogen_Breite_Brutto          MaschNr               Start  \\\n0                     979.0  SL 6  Glue-Tape 2016-02-26 11:48:21   \n1                    1022.0             SL 2 2016-02-26 11:54:52   \n2                    1260.0      SL 7  H-Wkz 2016-02-26 11:58:29   \n3                    2242.0            Taper 2016-02-26 11:59:57   \n4                     355.0             SL 5 2016-02-26 12:02:33   \n...                     ...              ...                 ...   \n529202                491.0             SL 5 2021-12-06 01:28:09   \n529203               2079.0    SL 6  Geglued 2021-12-06 01:58:51   \n529204                491.0             SL 5 2021-12-06 02:17:23   \n529205               2079.0    SL 6  Geglued 2021-12-06 02:18:16   \n529206                491.0             SL 5 2021-12-06 02:30:16   \n\n                      Ende  Ruestzeit_Ist  ...  KndNr              Suchname  \\\n0      2016-02-26 12:54:32             72  ...  11052           VOSS MOEBEL   \n1      2016-02-26 14:10:06            168  ...  12403               KOETTER   \n2      2016-02-26 12:41:03             49  ...  12516          STEENS GROUP   \n3                      NaT              0  ...  11334             CARTOFLEX   \n4      2016-02-26 12:04:27              2  ...  11356               OESEDER   \n...                    ...            ...  ...    ...                   ...   \n529202 2021-12-06 02:17:23             29  ...  12017         PAP EMBALLAGE   \n529203 2021-12-06 02:18:16             39  ...  15615  SCHUMACHER PACKAGING   \n529204 2021-12-06 02:30:16             29  ...  12017         PAP EMBALLAGE   \n529205 2021-12-06 03:59:06             39  ...  15615  SCHUMACHER PACKAGING   \n529206                 NaT             29  ...  12017         PAP EMBALLAGE   \n\n          AKNR  TeilNr  SchrittNr  Summe_Minuten  ID_Maschstatus  \\\n0        39473       1          1           66.0               0   \n1        39961       1          1          136.0               0   \n2        38882       1          1           43.0               1   \n3        39956       1          2            NaN               2   \n4        39611       1          1            2.0               0   \n...        ...     ...        ...            ...             ...   \n529202  125880       1          1           49.0              18   \n529203  125542       1          1           20.0               5   \n529204  125880       1          1           13.0               1   \n529205  125542       1          1          101.0               1   \n529206  125880       1          1            NaN               2   \n\n          Maschstatus  Lieferdatum_Rohmaterial BE_Erledigt  \n0              Rüsten               2016-02-25         1.0  \n1              Rüsten               2016-02-25         1.0  \n2          Produktion               2016-02-18         1.0  \n3            Leerlauf               2016-02-24         1.0  \n4              Rüsten               2016-02-24         1.0  \n...               ...                      ...         ...  \n529202  Minda Störung               2021-12-03         1.0  \n529203          Pause               2021-11-30         1.0  \n529204     Produktion               2021-12-03         1.0  \n529205     Produktion               2021-11-30         1.0  \n529206       Leerlauf               2021-12-03         1.0  \n\n[529207 rows x 31 columns]",
      "text/html": "<div>\n<style scoped>\n    .dataframe tbody tr th:only-of-type {\n        vertical-align: middle;\n    }\n\n    .dataframe tbody tr th {\n        vertical-align: top;\n    }\n\n    .dataframe thead th {\n        text-align: right;\n    }\n</style>\n<table border=\"1\" class=\"dataframe\">\n  <thead>\n    <tr style=\"text-align: right;\">\n      <th></th>\n      <th>Fefco_Teil</th>\n      <th>ArtNr_Teil</th>\n      <th>ID_Druck</th>\n      <th>Druckflaeche</th>\n      <th>Bogen_Laenge_Brutto</th>\n      <th>Bogen_Breite_Brutto</th>\n      <th>MaschNr</th>\n      <th>Start</th>\n      <th>Ende</th>\n      <th>Ruestzeit_Ist</th>\n      <th>...</th>\n      <th>KndNr</th>\n      <th>Suchname</th>\n      <th>AKNR</th>\n      <th>TeilNr</th>\n      <th>SchrittNr</th>\n      <th>Summe_Minuten</th>\n      <th>ID_Maschstatus</th>\n      <th>Maschstatus</th>\n      <th>Lieferdatum_Rohmaterial</th>\n      <th>BE_Erledigt</th>\n    </tr>\n  </thead>\n  <tbody>\n    <tr>\n      <th>0</th>\n      <td>0201 GT man</td>\n      <td>11307</td>\n      <td>1</td>\n      <td>0.10</td>\n      <td>2808.0</td>\n      <td>979.0</td>\n      <td>SL 6  Glue-Tape</td>\n      <td>2016-02-26 11:48:21</td>\n      <td>2016-02-26 12:54:32</td>\n      <td>72</td>\n      <td>...</td>\n      <td>11052</td>\n      <td>VOSS MOEBEL</td>\n      <td>39473</td>\n      <td>1</td>\n      <td>1</td>\n      <td>66.0</td>\n      <td>0</td>\n      <td>Rüsten</td>\n      <td>2016-02-25</td>\n      <td>1.0</td>\n    </tr>\n    <tr>\n      <th>1</th>\n      <td>0201 G</td>\n      <td>10039</td>\n      <td>1</td>\n      <td>0.10</td>\n      <td>2168.0</td>\n      <td>1022.0</td>\n      <td>SL 2</td>\n      <td>2016-02-26 11:54:52</td>\n      <td>2016-02-26 14:10:06</td>\n      <td>168</td>\n      <td>...</td>\n      <td>12403</td>\n      <td>KOETTER</td>\n      <td>39961</td>\n      <td>1</td>\n      <td>1</td>\n      <td>136.0</td>\n      <td>0</td>\n      <td>Rüsten</td>\n      <td>2016-02-25</td>\n      <td>1.0</td>\n    </tr>\n    <tr>\n      <th>2</th>\n      <td>0410 NJA Q</td>\n      <td>16906</td>\n      <td>1</td>\n      <td>0.10</td>\n      <td>2029.0</td>\n      <td>1260.0</td>\n      <td>SL 7  H-Wkz</td>\n      <td>2016-02-26 11:58:29</td>\n      <td>2016-02-26 12:41:03</td>\n      <td>49</td>\n      <td>...</td>\n      <td>12516</td>\n      <td>STEENS GROUP</td>\n      <td>38882</td>\n      <td>1</td>\n      <td>1</td>\n      <td>43.0</td>\n      <td>1</td>\n      <td>Produktion</td>\n      <td>2016-02-18</td>\n      <td>1.0</td>\n    </tr>\n    <tr>\n      <th>3</th>\n      <td>0201 T (S/T)</td>\n      <td>18198</td>\n      <td>1</td>\n      <td>0.10</td>\n      <td>4508.0</td>\n      <td>2242.0</td>\n      <td>Taper</td>\n      <td>2016-02-26 11:59:57</td>\n      <td>NaT</td>\n      <td>0</td>\n      <td>...</td>\n      <td>11334</td>\n      <td>CARTOFLEX</td>\n      <td>39956</td>\n      <td>1</td>\n      <td>2</td>\n      <td>NaN</td>\n      <td>2</td>\n      <td>Leerlauf</td>\n      <td>2016-02-24</td>\n      <td>1.0</td>\n    </tr>\n    <tr>\n      <th>4</th>\n      <td>0200 G man</td>\n      <td>11068</td>\n      <td>1</td>\n      <td>0.03</td>\n      <td>925.0</td>\n      <td>355.0</td>\n      <td>SL 5</td>\n      <td>2016-02-26 12:02:33</td>\n      <td>2016-02-26 12:04:27</td>\n      <td>2</td>\n      <td>...</td>\n      <td>11356</td>\n      <td>OESEDER</td>\n      <td>39611</td>\n      <td>1</td>\n      <td>1</td>\n      <td>2.0</td>\n      <td>0</td>\n      <td>Rüsten</td>\n      <td>2016-02-24</td>\n      <td>1.0</td>\n    </tr>\n    <tr>\n      <th>...</th>\n      <td>...</td>\n      <td>...</td>\n      <td>...</td>\n      <td>...</td>\n      <td>...</td>\n      <td>...</td>\n      <td>...</td>\n      <td>...</td>\n      <td>...</td>\n      <td>...</td>\n      <td>...</td>\n      <td>...</td>\n      <td>...</td>\n      <td>...</td>\n      <td>...</td>\n      <td>...</td>\n      <td>...</td>\n      <td>...</td>\n      <td>...</td>\n      <td>...</td>\n      <td>...</td>\n    </tr>\n    <tr>\n      <th>529202</th>\n      <td>0201 G</td>\n      <td>25160</td>\n      <td>0</td>\n      <td>NaN</td>\n      <td>1221.0</td>\n      <td>491.0</td>\n      <td>SL 5</td>\n      <td>2021-12-06 01:28:09</td>\n      <td>2021-12-06 02:17:23</td>\n      <td>29</td>\n      <td>...</td>\n      <td>12017</td>\n      <td>PAP EMBALLAGE</td>\n      <td>125880</td>\n      <td>1</td>\n      <td>1</td>\n      <td>49.0</td>\n      <td>18</td>\n      <td>Minda Störung</td>\n      <td>2021-12-03</td>\n      <td>1.0</td>\n    </tr>\n    <tr>\n      <th>529203</th>\n      <td>0200 G man</td>\n      <td>28911</td>\n      <td>0</td>\n      <td>NaN</td>\n      <td>3982.0</td>\n      <td>2079.0</td>\n      <td>SL 6  Geglued</td>\n      <td>2021-12-06 01:58:51</td>\n      <td>2021-12-06 02:18:16</td>\n      <td>39</td>\n      <td>...</td>\n      <td>15615</td>\n      <td>SCHUMACHER PACKAGING</td>\n      <td>125542</td>\n      <td>1</td>\n      <td>1</td>\n      <td>20.0</td>\n      <td>5</td>\n      <td>Pause</td>\n      <td>2021-11-30</td>\n      <td>1.0</td>\n    </tr>\n    <tr>\n      <th>529204</th>\n      <td>0201 G</td>\n      <td>25160</td>\n      <td>0</td>\n      <td>NaN</td>\n      <td>1221.0</td>\n      <td>491.0</td>\n      <td>SL 5</td>\n      <td>2021-12-06 02:17:23</td>\n      <td>2021-12-06 02:30:16</td>\n      <td>29</td>\n      <td>...</td>\n      <td>12017</td>\n      <td>PAP EMBALLAGE</td>\n      <td>125880</td>\n      <td>1</td>\n      <td>1</td>\n      <td>13.0</td>\n      <td>1</td>\n      <td>Produktion</td>\n      <td>2021-12-03</td>\n      <td>1.0</td>\n    </tr>\n    <tr>\n      <th>529205</th>\n      <td>0200 G man</td>\n      <td>28911</td>\n      <td>0</td>\n      <td>NaN</td>\n      <td>3982.0</td>\n      <td>2079.0</td>\n      <td>SL 6  Geglued</td>\n      <td>2021-12-06 02:18:16</td>\n      <td>2021-12-06 03:59:06</td>\n      <td>39</td>\n      <td>...</td>\n      <td>15615</td>\n      <td>SCHUMACHER PACKAGING</td>\n      <td>125542</td>\n      <td>1</td>\n      <td>1</td>\n      <td>101.0</td>\n      <td>1</td>\n      <td>Produktion</td>\n      <td>2021-11-30</td>\n      <td>1.0</td>\n    </tr>\n    <tr>\n      <th>529206</th>\n      <td>0201 G</td>\n      <td>25160</td>\n      <td>0</td>\n      <td>NaN</td>\n      <td>1221.0</td>\n      <td>491.0</td>\n      <td>SL 5</td>\n      <td>2021-12-06 02:30:16</td>\n      <td>NaT</td>\n      <td>29</td>\n      <td>...</td>\n      <td>12017</td>\n      <td>PAP EMBALLAGE</td>\n      <td>125880</td>\n      <td>1</td>\n      <td>1</td>\n      <td>NaN</td>\n      <td>2</td>\n      <td>Leerlauf</td>\n      <td>2021-12-03</td>\n      <td>1.0</td>\n    </tr>\n  </tbody>\n</table>\n<p>529207 rows × 31 columns</p>\n</div>"
     },
     "execution_count": 24,
     "metadata": {},
     "output_type": "execute_result"
    }
   ],
   "source": [
    "df"
   ],
   "metadata": {
    "collapsed": false,
    "pycharm": {
     "name": "#%%\n"
    }
   }
  },
  {
   "cell_type": "code",
   "execution_count": 31,
   "outputs": [],
   "source": [
    "df['machine'] = df.apply(lambda row : str(row['MaschNr'][:5]).strip(), axis=1)\n",
    "df = df[df.machine.str.startswith('SL')]"
   ],
   "metadata": {
    "collapsed": false,
    "pycharm": {
     "name": "#%%\n"
    }
   }
  },
  {
   "cell_type": "code",
   "execution_count": 32,
   "outputs": [
    {
     "data": {
      "text/plain": "['SL 10', 'SL 11', 'SL 2', 'SL 4', 'SL 5', 'SL 6', 'SL 7', 'SL 8', 'SL 9']"
     },
     "execution_count": 32,
     "metadata": {},
     "output_type": "execute_result"
    }
   ],
   "source": [
    "sorted(df['machine'].unique())"
   ],
   "metadata": {
    "collapsed": false,
    "pycharm": {
     "name": "#%%\n"
    }
   }
  }
 ],
 "metadata": {
  "kernelspec": {
   "display_name": "Python 3",
   "language": "python",
   "name": "python3"
  },
  "language_info": {
   "codemirror_mode": {
    "name": "ipython",
    "version": 2
   },
   "file_extension": ".py",
   "mimetype": "text/x-python",
   "name": "python",
   "nbconvert_exporter": "python",
   "pygments_lexer": "ipython2",
   "version": "2.7.6"
  }
 },
 "nbformat": 4,
 "nbformat_minor": 0
}