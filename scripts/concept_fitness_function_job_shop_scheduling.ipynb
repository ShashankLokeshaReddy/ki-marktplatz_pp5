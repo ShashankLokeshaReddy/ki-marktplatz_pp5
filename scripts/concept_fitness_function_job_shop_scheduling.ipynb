{
 "cells": [
  {
   "cell_type": "code",
   "execution_count": 47,
   "metadata": {},
   "outputs": [
    {
     "data": {
      "text/html": [
       "<div>\n",
       "<style scoped>\n",
       "    .dataframe tbody tr th:only-of-type {\n",
       "        vertical-align: middle;\n",
       "    }\n",
       "\n",
       "    .dataframe tbody tr th {\n",
       "        vertical-align: top;\n",
       "    }\n",
       "\n",
       "    .dataframe thead th {\n",
       "        text-align: right;\n",
       "    }\n",
       "</style>\n",
       "<table border=\"1\" class=\"dataframe\">\n",
       "  <thead>\n",
       "    <tr style=\"text-align: right;\">\n",
       "      <th></th>\n",
       "      <th>machine</th>\n",
       "      <th>jobID</th>\n",
       "      <th>input</th>\n",
       "      <th>deadline</th>\n",
       "      <th>duration</th>\n",
       "    </tr>\n",
       "  </thead>\n",
       "  <tbody>\n",
       "    <tr>\n",
       "      <th>0</th>\n",
       "      <td>[1, 2, 3]</td>\n",
       "      <td>1</td>\n",
       "      <td>2022-08-29 10:00:00</td>\n",
       "      <td>2022-08-29 13:00:00</td>\n",
       "      <td>0 days 01:00:00</td>\n",
       "    </tr>\n",
       "    <tr>\n",
       "      <th>1</th>\n",
       "      <td>[1]</td>\n",
       "      <td>2</td>\n",
       "      <td>2022-08-29 12:00:00</td>\n",
       "      <td>2022-08-29 14:00:00</td>\n",
       "      <td>0 days 01:30:00</td>\n",
       "    </tr>\n",
       "    <tr>\n",
       "      <th>2</th>\n",
       "      <td>[2]</td>\n",
       "      <td>3</td>\n",
       "      <td>2022-08-29 13:00:00</td>\n",
       "      <td>2022-08-29 15:00:00</td>\n",
       "      <td>0 days 00:30:00</td>\n",
       "    </tr>\n",
       "    <tr>\n",
       "      <th>3</th>\n",
       "      <td>[1, 2]</td>\n",
       "      <td>4</td>\n",
       "      <td>2022-08-29 10:00:00</td>\n",
       "      <td>2022-08-29 12:00:00</td>\n",
       "      <td>0 days 01:00:00</td>\n",
       "    </tr>\n",
       "    <tr>\n",
       "      <th>4</th>\n",
       "      <td>[2, 3]</td>\n",
       "      <td>5</td>\n",
       "      <td>2022-08-29 09:00:00</td>\n",
       "      <td>2022-08-29 12:00:00</td>\n",
       "      <td>0 days 00:30:00</td>\n",
       "    </tr>\n",
       "  </tbody>\n",
       "</table>\n",
       "</div>"
      ],
      "text/plain": [
       "     machine  jobID               input            deadline        duration\n",
       "0  [1, 2, 3]      1 2022-08-29 10:00:00 2022-08-29 13:00:00 0 days 01:00:00\n",
       "1        [1]      2 2022-08-29 12:00:00 2022-08-29 14:00:00 0 days 01:30:00\n",
       "2        [2]      3 2022-08-29 13:00:00 2022-08-29 15:00:00 0 days 00:30:00\n",
       "3     [1, 2]      4 2022-08-29 10:00:00 2022-08-29 12:00:00 0 days 01:00:00\n",
       "4     [2, 3]      5 2022-08-29 09:00:00 2022-08-29 12:00:00 0 days 00:30:00"
      ]
     },
     "execution_count": 47,
     "metadata": {},
     "output_type": "execute_result"
    }
   ],
   "source": [
    "import pandas as pd \n",
    "import datetime as dt\n",
    "machineList = [[1, 2, 3], [1], [2], [1, 2], [2, 3]]\n",
    "jobList = [1, 2, 3, 4, 5]\n",
    "imputTimeList = [dt.datetime(2022, 8, 29, 10), dt.datetime(2022, 8, 29, 12), dt.datetime(2022, 8, 29, 13), dt.datetime(2022, 8, 29, 10), dt.datetime(2022, 8, 29, 9)]\n",
    "deadlineList = [dt.datetime(2022, 8, 29, 13), dt.datetime(2022, 8, 29, 14), dt.datetime(2022, 8, 29, 15), dt.datetime(2022, 8, 29, 12), dt.datetime(2022, 8, 29, 12)]\n",
    "durationList = [dt.timedelta(hours=1), dt.timedelta(hours=1.5), dt.timedelta(hours=0.5), dt.timedelta(hours=1), dt.timedelta(hours=0.5)]\n",
    "\n",
    "data = {\"machine\": machineList, \"jobID\": jobList, \"input\": imputTimeList, \"deadline\": deadlineList, \"duration\": durationList}\n",
    "df = pd.DataFrame(data=data)\n",
    "df"
   ]
  },
  {
   "cell_type": "code",
   "execution_count": 62,
   "metadata": {},
   "outputs": [
    {
     "name": "stdout",
     "output_type": "stream",
     "text": [
      "start time: 2022-08-29 10:00:00\n",
      "end time:   2022-08-29 11:00:00\n",
      "start time: 2022-08-29 12:00:00\n",
      "end time:   2022-08-29 13:30:00\n",
      "start time: 2022-08-29 13:30:00\n",
      "end time:   2022-08-29 14:00:00\n",
      "start time: 2022-08-29 14:00:00\n",
      "end time:   2022-08-29 15:00:00\n",
      "start time: 2022-08-29 15:00:00\n",
      "end time:   2022-08-29 15:30:00\n"
     ]
    }
   ],
   "source": [
    "endtime = dt.datetime(2022, 8, 29, 0)\n",
    "starttimeList = []\n",
    "endtimeList = []\n",
    "for i in range(len(df)): \n",
    "\n",
    "    if endtime <= df[\"input\"].iloc[i]: \n",
    "        starttime = df[\"input\"].iloc[i]\n",
    "        print(\"start time: \" + str(starttime))\n",
    "        starttimeList.append(starttime)\n",
    "\n",
    "        endtime = df[\"input\"].iloc[i] + df[\"duration\"].iloc[i]\n",
    "        print(\"end time:   \" + str(endtime))\n",
    "        endtimeList.append(endtime)\n",
    "\n",
    "    else:   \n",
    "        starttime = endtime\n",
    "        print(\"start time: \" + str(starttime))\n",
    "        starttimeList.append(starttime)\n",
    "\n",
    "        endtime = starttime + df[\"duration\"].iloc[i]\n",
    "        print(\"end time:   \" + str(endtime))\n",
    "        endtimeList.append(endtime)\n",
    "\n"
   ]
  },
  {
   "cell_type": "code",
   "execution_count": 58,
   "metadata": {},
   "outputs": [
    {
     "data": {
      "text/html": [
       "<div>\n",
       "<style scoped>\n",
       "    .dataframe tbody tr th:only-of-type {\n",
       "        vertical-align: middle;\n",
       "    }\n",
       "\n",
       "    .dataframe tbody tr th {\n",
       "        vertical-align: top;\n",
       "    }\n",
       "\n",
       "    .dataframe thead th {\n",
       "        text-align: right;\n",
       "    }\n",
       "</style>\n",
       "<table border=\"1\" class=\"dataframe\">\n",
       "  <thead>\n",
       "    <tr style=\"text-align: right;\">\n",
       "      <th></th>\n",
       "      <th>machine</th>\n",
       "      <th>jobID</th>\n",
       "      <th>input</th>\n",
       "      <th>deadline</th>\n",
       "      <th>duration</th>\n",
       "      <th>starttime</th>\n",
       "      <th>endtime</th>\n",
       "    </tr>\n",
       "  </thead>\n",
       "  <tbody>\n",
       "    <tr>\n",
       "      <th>0</th>\n",
       "      <td>[1, 2, 3]</td>\n",
       "      <td>1</td>\n",
       "      <td>2022-08-29 10:00:00</td>\n",
       "      <td>2022-08-29 13:00:00</td>\n",
       "      <td>0 days 01:00:00</td>\n",
       "      <td>2022-08-29 10:00:00</td>\n",
       "      <td>2022-08-29 11:00:00</td>\n",
       "    </tr>\n",
       "    <tr>\n",
       "      <th>1</th>\n",
       "      <td>[1]</td>\n",
       "      <td>2</td>\n",
       "      <td>2022-08-29 12:00:00</td>\n",
       "      <td>2022-08-29 14:00:00</td>\n",
       "      <td>0 days 01:30:00</td>\n",
       "      <td>2022-08-29 12:00:00</td>\n",
       "      <td>2022-08-29 13:30:00</td>\n",
       "    </tr>\n",
       "    <tr>\n",
       "      <th>2</th>\n",
       "      <td>[2]</td>\n",
       "      <td>3</td>\n",
       "      <td>2022-08-29 13:00:00</td>\n",
       "      <td>2022-08-29 15:00:00</td>\n",
       "      <td>0 days 00:30:00</td>\n",
       "      <td>2022-08-29 13:30:00</td>\n",
       "      <td>2022-08-29 14:00:00</td>\n",
       "    </tr>\n",
       "    <tr>\n",
       "      <th>3</th>\n",
       "      <td>[1, 2]</td>\n",
       "      <td>4</td>\n",
       "      <td>2022-08-29 10:00:00</td>\n",
       "      <td>2022-08-29 12:00:00</td>\n",
       "      <td>0 days 01:00:00</td>\n",
       "      <td>2022-08-29 14:00:00</td>\n",
       "      <td>2022-08-29 15:00:00</td>\n",
       "    </tr>\n",
       "    <tr>\n",
       "      <th>4</th>\n",
       "      <td>[2, 3]</td>\n",
       "      <td>5</td>\n",
       "      <td>2022-08-29 09:00:00</td>\n",
       "      <td>2022-08-29 12:00:00</td>\n",
       "      <td>0 days 00:30:00</td>\n",
       "      <td>2022-08-29 15:00:00</td>\n",
       "      <td>2022-08-29 15:30:00</td>\n",
       "    </tr>\n",
       "  </tbody>\n",
       "</table>\n",
       "</div>"
      ],
      "text/plain": [
       "     machine  jobID               input            deadline        duration  \\\n",
       "0  [1, 2, 3]      1 2022-08-29 10:00:00 2022-08-29 13:00:00 0 days 01:00:00   \n",
       "1        [1]      2 2022-08-29 12:00:00 2022-08-29 14:00:00 0 days 01:30:00   \n",
       "2        [2]      3 2022-08-29 13:00:00 2022-08-29 15:00:00 0 days 00:30:00   \n",
       "3     [1, 2]      4 2022-08-29 10:00:00 2022-08-29 12:00:00 0 days 01:00:00   \n",
       "4     [2, 3]      5 2022-08-29 09:00:00 2022-08-29 12:00:00 0 days 00:30:00   \n",
       "\n",
       "            starttime             endtime  \n",
       "0 2022-08-29 10:00:00 2022-08-29 11:00:00  \n",
       "1 2022-08-29 12:00:00 2022-08-29 13:30:00  \n",
       "2 2022-08-29 13:30:00 2022-08-29 14:00:00  \n",
       "3 2022-08-29 14:00:00 2022-08-29 15:00:00  \n",
       "4 2022-08-29 15:00:00 2022-08-29 15:30:00  "
      ]
     },
     "execution_count": 58,
     "metadata": {},
     "output_type": "execute_result"
    }
   ],
   "source": [
    "df['starttime'] = starttimeList\n",
    "df['endtime'] = endtimeList\n",
    "df"
   ]
  },
  {
   "cell_type": "code",
   "execution_count": 61,
   "metadata": {},
   "outputs": [
    {
     "name": "stdout",
     "output_type": "stream",
     "text": [
      "total maketime: 0 days 05:30:00\n"
     ]
    }
   ],
   "source": [
    "maketime = df['endtime'].iloc[-1] - df['starttime'].iloc[0] \n",
    "print(\"total maketime: \" + str(maketime))"
   ]
  },
  {
   "cell_type": "code",
   "execution_count": 74,
   "metadata": {},
   "outputs": [
    {
     "name": "stdout",
     "output_type": "stream",
     "text": [
      "0 days 03:00:00\n",
      "0 days 03:30:00\n"
     ]
    }
   ],
   "source": [
    "delayList = []\n",
    "for i in range(len(df)):\n",
    "    if df['endtime'].iloc[i] > df['deadline'].iloc[i]:\n",
    "        delay = df['endtime'].iloc[i] - df['deadline'].iloc[i]\n",
    "        print(delay)\n",
    "        delayList.append(delay)\n",
    "    else: \n",
    "        delay = pd.Timedelta(0)\n",
    "        delayList.append(delay)\n",
    "        \n",
    "    "
   ]
  },
  {
   "cell_type": "code",
   "execution_count": 76,
   "metadata": {},
   "outputs": [
    {
     "data": {
      "text/html": [
       "<div>\n",
       "<style scoped>\n",
       "    .dataframe tbody tr th:only-of-type {\n",
       "        vertical-align: middle;\n",
       "    }\n",
       "\n",
       "    .dataframe tbody tr th {\n",
       "        vertical-align: top;\n",
       "    }\n",
       "\n",
       "    .dataframe thead th {\n",
       "        text-align: right;\n",
       "    }\n",
       "</style>\n",
       "<table border=\"1\" class=\"dataframe\">\n",
       "  <thead>\n",
       "    <tr style=\"text-align: right;\">\n",
       "      <th></th>\n",
       "      <th>machine</th>\n",
       "      <th>jobID</th>\n",
       "      <th>input</th>\n",
       "      <th>deadline</th>\n",
       "      <th>duration</th>\n",
       "      <th>starttime</th>\n",
       "      <th>endtime</th>\n",
       "      <th>delay</th>\n",
       "    </tr>\n",
       "  </thead>\n",
       "  <tbody>\n",
       "    <tr>\n",
       "      <th>0</th>\n",
       "      <td>[1, 2, 3]</td>\n",
       "      <td>1</td>\n",
       "      <td>2022-08-29 10:00:00</td>\n",
       "      <td>2022-08-29 13:00:00</td>\n",
       "      <td>0 days 01:00:00</td>\n",
       "      <td>2022-08-29 10:00:00</td>\n",
       "      <td>2022-08-29 11:00:00</td>\n",
       "      <td>0 days 00:00:00</td>\n",
       "    </tr>\n",
       "    <tr>\n",
       "      <th>1</th>\n",
       "      <td>[1]</td>\n",
       "      <td>2</td>\n",
       "      <td>2022-08-29 12:00:00</td>\n",
       "      <td>2022-08-29 14:00:00</td>\n",
       "      <td>0 days 01:30:00</td>\n",
       "      <td>2022-08-29 12:00:00</td>\n",
       "      <td>2022-08-29 13:30:00</td>\n",
       "      <td>0 days 00:00:00</td>\n",
       "    </tr>\n",
       "    <tr>\n",
       "      <th>2</th>\n",
       "      <td>[2]</td>\n",
       "      <td>3</td>\n",
       "      <td>2022-08-29 13:00:00</td>\n",
       "      <td>2022-08-29 15:00:00</td>\n",
       "      <td>0 days 00:30:00</td>\n",
       "      <td>2022-08-29 13:30:00</td>\n",
       "      <td>2022-08-29 14:00:00</td>\n",
       "      <td>0 days 00:00:00</td>\n",
       "    </tr>\n",
       "    <tr>\n",
       "      <th>3</th>\n",
       "      <td>[1, 2]</td>\n",
       "      <td>4</td>\n",
       "      <td>2022-08-29 10:00:00</td>\n",
       "      <td>2022-08-29 12:00:00</td>\n",
       "      <td>0 days 01:00:00</td>\n",
       "      <td>2022-08-29 14:00:00</td>\n",
       "      <td>2022-08-29 15:00:00</td>\n",
       "      <td>0 days 03:00:00</td>\n",
       "    </tr>\n",
       "    <tr>\n",
       "      <th>4</th>\n",
       "      <td>[2, 3]</td>\n",
       "      <td>5</td>\n",
       "      <td>2022-08-29 09:00:00</td>\n",
       "      <td>2022-08-29 12:00:00</td>\n",
       "      <td>0 days 00:30:00</td>\n",
       "      <td>2022-08-29 15:00:00</td>\n",
       "      <td>2022-08-29 15:30:00</td>\n",
       "      <td>0 days 03:30:00</td>\n",
       "    </tr>\n",
       "  </tbody>\n",
       "</table>\n",
       "</div>"
      ],
      "text/plain": [
       "     machine  jobID               input            deadline        duration  \\\n",
       "0  [1, 2, 3]      1 2022-08-29 10:00:00 2022-08-29 13:00:00 0 days 01:00:00   \n",
       "1        [1]      2 2022-08-29 12:00:00 2022-08-29 14:00:00 0 days 01:30:00   \n",
       "2        [2]      3 2022-08-29 13:00:00 2022-08-29 15:00:00 0 days 00:30:00   \n",
       "3     [1, 2]      4 2022-08-29 10:00:00 2022-08-29 12:00:00 0 days 01:00:00   \n",
       "4     [2, 3]      5 2022-08-29 09:00:00 2022-08-29 12:00:00 0 days 00:30:00   \n",
       "\n",
       "            starttime             endtime           delay  \n",
       "0 2022-08-29 10:00:00 2022-08-29 11:00:00 0 days 00:00:00  \n",
       "1 2022-08-29 12:00:00 2022-08-29 13:30:00 0 days 00:00:00  \n",
       "2 2022-08-29 13:30:00 2022-08-29 14:00:00 0 days 00:00:00  \n",
       "3 2022-08-29 14:00:00 2022-08-29 15:00:00 0 days 03:00:00  \n",
       "4 2022-08-29 15:00:00 2022-08-29 15:30:00 0 days 03:30:00  "
      ]
     },
     "execution_count": 76,
     "metadata": {},
     "output_type": "execute_result"
    }
   ],
   "source": [
    "delayList\n",
    "df['delay'] = delayList\n",
    "df"
   ]
  },
  {
   "cell_type": "code",
   "execution_count": 81,
   "metadata": {},
   "outputs": [
    {
     "name": "stdout",
     "output_type": "stream",
     "text": [
      "0 days 06:30:00\n"
     ]
    }
   ],
   "source": [
    "totalDelay = df['delay'].sum()\n",
    "print(totalDelay)"
   ]
  }
 ],
 "metadata": {
  "interpreter": {
   "hash": "f3fa5d2b7c72aa6ab2c3548710931f6388bf93ce776d9fd7096fc7692a485e40"
  },
  "kernelspec": {
   "display_name": "Python 3.9.12 ('westaflex2')",
   "language": "python",
   "name": "python3"
  },
  "language_info": {
   "codemirror_mode": {
    "name": "ipython",
    "version": 3
   },
   "file_extension": ".py",
   "mimetype": "text/x-python",
   "name": "python",
   "nbconvert_exporter": "python",
   "pygments_lexer": "ipython3",
   "version": "3.9.12"
  },
  "orig_nbformat": 4
 },
 "nbformat": 4,
 "nbformat_minor": 2
}
