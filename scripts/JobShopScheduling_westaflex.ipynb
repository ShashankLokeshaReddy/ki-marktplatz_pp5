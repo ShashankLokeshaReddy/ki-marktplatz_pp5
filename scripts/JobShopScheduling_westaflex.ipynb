{
 "cells": [
  {
   "cell_type": "markdown",
   "metadata": {},
   "source": [
    "# Job Shop Scheduling at westaflex"
   ]
  },
  {
   "cell_type": "code",
   "execution_count": null,
   "metadata": {},
   "outputs": [],
   "source": [
    "%matplotlib inline\n",
    "import matplotlib.pyplot as plt\n",
    "import matplotlib as mpl\n",
    "import pandas as pd\n",
    "\n",
    "import shutil\n",
    "import sys\n",
    "import os.path\n",
    "\n",
    "if not shutil.which(\"pyomo\"):\n",
    "    !pip install -q pyomo\n",
    "    assert(shutil.which(\"pyomo\"))\n",
    "\n",
    "if not (shutil.which(\"cbc\") or os.path.isfile(\"cbc\")):\n",
    "    if \"google.colab\" in sys.modules:\n",
    "        !apt-get install -y -qq coinor-cbc\n",
    "    else:\n",
    "        try:\n",
    "            !conda install -c conda-forge coincbc \n",
    "        except:\n",
    "            pass\n",
    "\n",
    "assert(shutil.which(\"cbc\") or os.path.isfile(\"cbc\"))\n",
    "from pyomo.environ import *\n",
    "from pyomo.gdp import *\n",
    "from pandas_ods_reader import read_ods\n",
    "import pandas as pd"
   ]
  },
  {
   "cell_type": "markdown",
   "metadata": {},
   "source": [
    "## 1 Modelling the Optimization Problem"
   ]
  },
  {
   "cell_type": "markdown",
   "metadata": {},
   "source": [
    "### 1.1 Machines\n",
    "There are seven machines called \"Wickelrohrmaschine\" which work in parallel and can produce different tube sizes."
   ]
  },
  {
   "cell_type": "code",
   "execution_count": null,
   "metadata": {},
   "outputs": [],
   "source": [
    "MACHINES = {\n",
    "    'm1': {'name': '1531'},\n",
    "    'm2': {'name': '1532'},\n",
    "    'm3': {'name': '1533'},\n",
    "    'm4': {'name': '1534'},\n",
    "    'm5': {'name': '1535'},\n",
    "    'm6': {'name': '1536'},\n",
    "    'm7': {'name': '1537'},\n",
    "}"
   ]
  },
  {
   "cell_type": "code",
   "execution_count": null,
   "metadata": {},
   "outputs": [],
   "source": [
    "### 1.2 Jobs\n",
    "The Jobs are the orders to be produced. A Job is characterized by:\n",
    "- a unique key\n",
    "- a due time by which all tasks should be finished"
   ]
  },
  {
   "cell_type": "code",
   "execution_count": null,
   "metadata": {},
   "outputs": [],
   "source": [
    "def parse_machine_number(df, column):\n",
    "    \"\"\"\n",
    "    Function extracts the machine number of a expression in the format\n",
    "    \"Wickelrohrmaschine 1234\" and gives back only the machines with a\n",
    "    number expression.\n",
    "\n",
    "    Parameters\n",
    "    ----------\n",
    "    df : pd.DataFrame\n",
    "        dataframe with a column which contains a string expression\n",
    "         for the machine\n",
    "    column: string\n",
    "        Name of the column that contains information about the machine\n",
    "\n",
    "    Returns\n",
    "    ---------\n",
    "    pd.DataFrame\n",
    "        Updated dataframe with new columns 'machine' and 'machine_id\n",
    "    \"\"\"\n",
    "    #df = df[df.Nummer Wickel-rohrmaschine.str.startswith('Wickelrohrmaschine')]\n",
    "    df['machine_id'] = df.apply(lambda row: str(row[column][-4:]).strip(),\n",
    "                             axis=1)\n",
    "    return df"
   ]
  },
  {
   "cell_type": "code",
   "execution_count": null,
   "metadata": {},
   "outputs": [],
   "source": [
    "path = \"../data/Arbeitsplanung_steuerung_Wickelmaschinen_alt.ods\"\n",
    "sheet_idx = 14\n",
    "df = read_ods(path, sheet_idx)\n",
    "df = df.rename(columns=df.iloc[10])\n",
    "df = df.rename(columns={df.columns[0]:'Nichts'})\n",
    "df = df.drop('Nichts', axis=1)\n",
    "df = df.drop(np.arange(12))\n",
    "df = df.reset_index(drop=True)\n",
    "df = df[['Fertigungsauf-tragsnummer', 'Teilenummer', \n",
    "         'Auftragsmenge',  'Nummer Wickel-rohrmaschine', 'Werkzeug-nummer', 'Rüstzeit für WKZ/Materialwechsel', 'Rüstzeit für Coilwechsel', 'Maschinen-laufzeit', 'Fertigungszeit pro Mengeneinheit', 'Spätester Starttermin']]\n",
    "df = parse_machine_number(df, 'Nummer Wickel-rohrmaschine')"
   ]
  },
  {
   "cell_type": "code",
   "execution_count": null,
   "metadata": {},
   "outputs": [],
   "source": [
    "df_jobs = df[['Fertigungsauf-tragsnummer', 'Spätester Starttermin]]\n",
    "jobs = df_jobs.to_dict('index')"
   ]
  },
  {
   "cell_type": "markdown",
   "metadata": {},
   "source": [
    "### 1.3 Task\n",
    "A task is the production of a job on a machine. \n",
    "It is characterized by:\n",
    "- job\n",
    "- machine\n",
    "- duration \n",
    "- tool"
   ]
  },
  {
   "cell_type": "code",
   "execution_count": null,
   "metadata": {},
   "outputs": [],
   "source": [
    "df_tasks = df[['Fertigungsauf-tragsnummer', 'machine_id', 'Maschinen-laufzeit', 'Werkzeug-nummer']]\n",
    "tasks = df_tasks.to_dict('index')"
   ]
  }
 ],
 "metadata": {
  "language_info": {
   "name": "python"
  },
  "orig_nbformat": 4
 },
 "nbformat": 4,
 "nbformat_minor": 2
}
