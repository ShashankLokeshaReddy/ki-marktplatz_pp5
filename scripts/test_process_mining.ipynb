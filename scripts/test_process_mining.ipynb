{
 "cells": [
  {
   "cell_type": "code",
   "execution_count": 1,
   "metadata": {},
   "outputs": [],
   "source": [
    "import pandas as pd\n",
    "from pandas_ods_reader import read_ods\n",
    "import numpy as np\n",
    "import datetime as datetime\n",
    "import re"
   ]
  },
  {
   "cell_type": "markdown",
   "metadata": {},
   "source": [
    "# Datenvorverarbeitung"
   ]
  },
  {
   "cell_type": "code",
   "execution_count": 2,
   "metadata": {
    "tags": []
   },
   "outputs": [
    {
     "output_type": "execute_result",
     "data": {
      "text/plain": "  lfd. Nr. Fertigungsauf-tragsnummer Teilenummer  \\\n0      1.0             92021412719.0   60PAP2060   \n1      2.0             92021529395.0   70AA30000   \n2      3.0             92021529919.0       80PAK   \n3      4.0             92021530000.0    90APK004   \n4      5.0             92021539118.0   55PAP3985   \n\n                       Bezeichnung Rohrtyp Nenn-durchmesser Auftragsmenge  \\\n0  Aluminium – Papier – Kunststoff     APK             75.0        1000.0   \n1            Aluminium – Aluminium      AA             70.0        3000.0   \n2  Papier – Aluminium – Kunststoff     PAK             80.0        3000.0   \n3  Aluminium – Papier – Kunststoff     APK             90.0        3000.0   \n4      Papier – Aluminium – Papier     PAP             55.0         480.0   \n\n  Auftragsmenge Artikellänge Artikellänge Bandüberlappung Funktionslage  \\\n0           0.0       1000.0          0.0                           2.0   \n1          34.0        900.0         30.0                           2.0   \n2          24.0        900.0         25.0                           2.0   \n3          20.0        900.0         25.0                           2.0   \n4          20.0       3985.0         25.0                           2.0   \n\n  Bandüberlappung Beilaufpapier Lagenvariante Nummer Wickel-rohrmaschine  \\\n0                          10.0    Variante 1    Wickelrohrmaschine 1531   \n1                          10.0    Variante 1    Wickelrohrmaschine 1531   \n2                          10.0    Variante 1    Wickelrohrmaschine 1531   \n3                          10.0    Variante 3    Wickelrohrmaschine 1531   \n4                          10.0    Variante 1    Wickelrohrmaschine 1535   \n\n  Maschinen-gruppe Werkzeug-nummer Rüstzeit für WKZ/Materialwechsel  \\\n0              1.0          A0 023                             15.0   \n1              1.0          A0 023                             15.0   \n2              1.0          A0 023                             15.0   \n3              1.0          A0 023                             15.0   \n4              3.0          A0 023                             15.0   \n\n  Rüstzeit für Coilwechsel Maschinen-laufzeit Fertigungszeit pro Mengeneinheit  \n0                      2.0             323.96                             0.31  \n1                      2.0             147.19                             3.89  \n2                      2.0             124.49                             4.56  \n3                      2.0             104.03                             4.45  \n4                      2.0             570.94                             1.16  ",
      "text/html": "<div>\n<style scoped>\n    .dataframe tbody tr th:only-of-type {\n        vertical-align: middle;\n    }\n\n    .dataframe tbody tr th {\n        vertical-align: top;\n    }\n\n    .dataframe thead th {\n        text-align: right;\n    }\n</style>\n<table border=\"1\" class=\"dataframe\">\n  <thead>\n    <tr style=\"text-align: right;\">\n      <th></th>\n      <th>lfd. Nr.</th>\n      <th>Fertigungsauf-tragsnummer</th>\n      <th>Teilenummer</th>\n      <th>Bezeichnung</th>\n      <th>Rohrtyp</th>\n      <th>Nenn-durchmesser</th>\n      <th>Auftragsmenge</th>\n      <th>Auftragsmenge</th>\n      <th>Artikellänge</th>\n      <th>Artikellänge</th>\n      <th>Bandüberlappung Funktionslage</th>\n      <th>Bandüberlappung Beilaufpapier</th>\n      <th>Lagenvariante</th>\n      <th>Nummer Wickel-rohrmaschine</th>\n      <th>Maschinen-gruppe</th>\n      <th>Werkzeug-nummer</th>\n      <th>Rüstzeit für WKZ/Materialwechsel</th>\n      <th>Rüstzeit für Coilwechsel</th>\n      <th>Maschinen-laufzeit</th>\n      <th>Fertigungszeit pro Mengeneinheit</th>\n    </tr>\n  </thead>\n  <tbody>\n    <tr>\n      <th>0</th>\n      <td>1.0</td>\n      <td>92021412719.0</td>\n      <td>60PAP2060</td>\n      <td>Aluminium – Papier – Kunststoff</td>\n      <td>APK</td>\n      <td>75.0</td>\n      <td>1000.0</td>\n      <td>0.0</td>\n      <td>1000.0</td>\n      <td>0.0</td>\n      <td>2.0</td>\n      <td>10.0</td>\n      <td>Variante 1</td>\n      <td>Wickelrohrmaschine 1531</td>\n      <td>1.0</td>\n      <td>A0 023</td>\n      <td>15.0</td>\n      <td>2.0</td>\n      <td>323.96</td>\n      <td>0.31</td>\n    </tr>\n    <tr>\n      <th>1</th>\n      <td>2.0</td>\n      <td>92021529395.0</td>\n      <td>70AA30000</td>\n      <td>Aluminium – Aluminium</td>\n      <td>AA</td>\n      <td>70.0</td>\n      <td>3000.0</td>\n      <td>34.0</td>\n      <td>900.0</td>\n      <td>30.0</td>\n      <td>2.0</td>\n      <td>10.0</td>\n      <td>Variante 1</td>\n      <td>Wickelrohrmaschine 1531</td>\n      <td>1.0</td>\n      <td>A0 023</td>\n      <td>15.0</td>\n      <td>2.0</td>\n      <td>147.19</td>\n      <td>3.89</td>\n    </tr>\n    <tr>\n      <th>2</th>\n      <td>3.0</td>\n      <td>92021529919.0</td>\n      <td>80PAK</td>\n      <td>Papier – Aluminium – Kunststoff</td>\n      <td>PAK</td>\n      <td>80.0</td>\n      <td>3000.0</td>\n      <td>24.0</td>\n      <td>900.0</td>\n      <td>25.0</td>\n      <td>2.0</td>\n      <td>10.0</td>\n      <td>Variante 1</td>\n      <td>Wickelrohrmaschine 1531</td>\n      <td>1.0</td>\n      <td>A0 023</td>\n      <td>15.0</td>\n      <td>2.0</td>\n      <td>124.49</td>\n      <td>4.56</td>\n    </tr>\n    <tr>\n      <th>3</th>\n      <td>4.0</td>\n      <td>92021530000.0</td>\n      <td>90APK004</td>\n      <td>Aluminium – Papier – Kunststoff</td>\n      <td>APK</td>\n      <td>90.0</td>\n      <td>3000.0</td>\n      <td>20.0</td>\n      <td>900.0</td>\n      <td>25.0</td>\n      <td>2.0</td>\n      <td>10.0</td>\n      <td>Variante 3</td>\n      <td>Wickelrohrmaschine 1531</td>\n      <td>1.0</td>\n      <td>A0 023</td>\n      <td>15.0</td>\n      <td>2.0</td>\n      <td>104.03</td>\n      <td>4.45</td>\n    </tr>\n    <tr>\n      <th>4</th>\n      <td>5.0</td>\n      <td>92021539118.0</td>\n      <td>55PAP3985</td>\n      <td>Papier – Aluminium – Papier</td>\n      <td>PAP</td>\n      <td>55.0</td>\n      <td>480.0</td>\n      <td>20.0</td>\n      <td>3985.0</td>\n      <td>25.0</td>\n      <td>2.0</td>\n      <td>10.0</td>\n      <td>Variante 1</td>\n      <td>Wickelrohrmaschine 1535</td>\n      <td>3.0</td>\n      <td>A0 023</td>\n      <td>15.0</td>\n      <td>2.0</td>\n      <td>570.94</td>\n      <td>1.16</td>\n    </tr>\n  </tbody>\n</table>\n</div>"
     },
     "metadata": {},
     "execution_count": 2
    }
   ],
   "source": [
    "path = \"../data/Arbeitsplanung_steuerung_Wickelmaschinen_alt.ods\"\n",
    "sheet_idx = 14\n",
    "df = read_ods(path, sheet_idx)\n",
    "df = df.rename(columns=df.iloc[10])\n",
    "df = df.rename(columns={df.columns[0]:'Nichts'})\n",
    "df = df.drop('Nichts', axis=1)\n",
    "df = df.drop(np.arange(12))\n",
    "df = df.reset_index(drop=True)\n",
    "df = df[['lfd. Nr.', 'Fertigungsauf-tragsnummer', 'Teilenummer', 'Bezeichnung', 'Rohrtyp', 'Nenn-durchmesser',\n",
    "         'Auftragsmenge', 'Artikellänge', 'Bandüberlappung Funktionslage', 'Bandüberlappung Beilaufpapier',               'Lagenvariante', 'Nummer Wickel-rohrmaschine', 'Maschinen-gruppe', 'Werkzeug-nummer',                           'Rüstzeit für WKZ/Materialwechsel', 'Rüstzeit für Coilwechsel', 'Maschinen-laufzeit',                            'Fertigungszeit pro Mengeneinheit']]\n",
    "df.head()"
   ]
  },
  {
   "cell_type": "code",
   "execution_count": 4,
   "metadata": {},
   "outputs": [],
   "source": [
    "def parse_machine_number(df, column):\n",
    "    \"\"\"\n",
    "    Function extracts the machine number of a expression in the format\n",
    "    \"Wickelrohrmaschine 1234\" and gives back only the machines with a\n",
    "    number expression.\n",
    "\n",
    "    Parameters\n",
    "    ----------\n",
    "    df : pd.DataFrame\n",
    "        dataframe with a column which contains a string expression\n",
    "         for the machine\n",
    "    column: string\n",
    "        Name of the column that contains information about the machine\n",
    "\n",
    "    Returns\n",
    "    ---------\n",
    "    pd.DataFrame\n",
    "        Updated dataframe with new columns 'machine' and 'machine_id\n",
    "    \"\"\"\n",
    "    #df = df[df.Nummer Wickel-rohrmaschine.str.startswith('Wickelrohrmaschine')]\n",
    "    df['machine_id'] = df.apply(lambda row: str(row[column][-4:]).strip(),\n",
    "                             axis=1)\n",
    "    return df\n"
   ]
  },
  {
   "cell_type": "code",
   "execution_count": 5,
   "metadata": {},
   "outputs": [
    {
     "output_type": "execute_result",
     "data": {
      "text/plain": "  lfd. Nr. Fertigungsauf-tragsnummer Teilenummer  \\\n0      1.0             92021412719.0   60PAP2060   \n1      2.0             92021529395.0   70AA30000   \n2      3.0             92021529919.0       80PAK   \n3      4.0             92021530000.0    90APK004   \n4      5.0             92021539118.0   55PAP3985   \n\n                       Bezeichnung Rohrtyp Nenn-durchmesser Auftragsmenge  \\\n0  Aluminium – Papier – Kunststoff     APK             75.0        1000.0   \n1            Aluminium – Aluminium      AA             70.0        3000.0   \n2  Papier – Aluminium – Kunststoff     PAK             80.0        3000.0   \n3  Aluminium – Papier – Kunststoff     APK             90.0        3000.0   \n4      Papier – Aluminium – Papier     PAP             55.0         480.0   \n\n  Auftragsmenge Artikellänge Artikellänge  ... Bandüberlappung Beilaufpapier  \\\n0           0.0       1000.0          0.0  ...                          10.0   \n1          34.0        900.0         30.0  ...                          10.0   \n2          24.0        900.0         25.0  ...                          10.0   \n3          20.0        900.0         25.0  ...                          10.0   \n4          20.0       3985.0         25.0  ...                          10.0   \n\n  Lagenvariante Nummer Wickel-rohrmaschine Maschinen-gruppe Werkzeug-nummer  \\\n0    Variante 1    Wickelrohrmaschine 1531              1.0          A0 023   \n1    Variante 1    Wickelrohrmaschine 1531              1.0          A0 023   \n2    Variante 1    Wickelrohrmaschine 1531              1.0          A0 023   \n3    Variante 3    Wickelrohrmaschine 1531              1.0          A0 023   \n4    Variante 1    Wickelrohrmaschine 1535              3.0          A0 023   \n\n  Rüstzeit für WKZ/Materialwechsel Rüstzeit für Coilwechsel  \\\n0                             15.0                      2.0   \n1                             15.0                      2.0   \n2                             15.0                      2.0   \n3                             15.0                      2.0   \n4                             15.0                      2.0   \n\n  Maschinen-laufzeit Fertigungszeit pro Mengeneinheit machine_id  \n0             323.96                             0.31       1531  \n1             147.19                             3.89       1531  \n2             124.49                             4.56       1531  \n3             104.03                             4.45       1531  \n4             570.94                             1.16       1535  \n\n[5 rows x 21 columns]",
      "text/html": "<div>\n<style scoped>\n    .dataframe tbody tr th:only-of-type {\n        vertical-align: middle;\n    }\n\n    .dataframe tbody tr th {\n        vertical-align: top;\n    }\n\n    .dataframe thead th {\n        text-align: right;\n    }\n</style>\n<table border=\"1\" class=\"dataframe\">\n  <thead>\n    <tr style=\"text-align: right;\">\n      <th></th>\n      <th>lfd. Nr.</th>\n      <th>Fertigungsauf-tragsnummer</th>\n      <th>Teilenummer</th>\n      <th>Bezeichnung</th>\n      <th>Rohrtyp</th>\n      <th>Nenn-durchmesser</th>\n      <th>Auftragsmenge</th>\n      <th>Auftragsmenge</th>\n      <th>Artikellänge</th>\n      <th>Artikellänge</th>\n      <th>...</th>\n      <th>Bandüberlappung Beilaufpapier</th>\n      <th>Lagenvariante</th>\n      <th>Nummer Wickel-rohrmaschine</th>\n      <th>Maschinen-gruppe</th>\n      <th>Werkzeug-nummer</th>\n      <th>Rüstzeit für WKZ/Materialwechsel</th>\n      <th>Rüstzeit für Coilwechsel</th>\n      <th>Maschinen-laufzeit</th>\n      <th>Fertigungszeit pro Mengeneinheit</th>\n      <th>machine_id</th>\n    </tr>\n  </thead>\n  <tbody>\n    <tr>\n      <th>0</th>\n      <td>1.0</td>\n      <td>92021412719.0</td>\n      <td>60PAP2060</td>\n      <td>Aluminium – Papier – Kunststoff</td>\n      <td>APK</td>\n      <td>75.0</td>\n      <td>1000.0</td>\n      <td>0.0</td>\n      <td>1000.0</td>\n      <td>0.0</td>\n      <td>...</td>\n      <td>10.0</td>\n      <td>Variante 1</td>\n      <td>Wickelrohrmaschine 1531</td>\n      <td>1.0</td>\n      <td>A0 023</td>\n      <td>15.0</td>\n      <td>2.0</td>\n      <td>323.96</td>\n      <td>0.31</td>\n      <td>1531</td>\n    </tr>\n    <tr>\n      <th>1</th>\n      <td>2.0</td>\n      <td>92021529395.0</td>\n      <td>70AA30000</td>\n      <td>Aluminium – Aluminium</td>\n      <td>AA</td>\n      <td>70.0</td>\n      <td>3000.0</td>\n      <td>34.0</td>\n      <td>900.0</td>\n      <td>30.0</td>\n      <td>...</td>\n      <td>10.0</td>\n      <td>Variante 1</td>\n      <td>Wickelrohrmaschine 1531</td>\n      <td>1.0</td>\n      <td>A0 023</td>\n      <td>15.0</td>\n      <td>2.0</td>\n      <td>147.19</td>\n      <td>3.89</td>\n      <td>1531</td>\n    </tr>\n    <tr>\n      <th>2</th>\n      <td>3.0</td>\n      <td>92021529919.0</td>\n      <td>80PAK</td>\n      <td>Papier – Aluminium – Kunststoff</td>\n      <td>PAK</td>\n      <td>80.0</td>\n      <td>3000.0</td>\n      <td>24.0</td>\n      <td>900.0</td>\n      <td>25.0</td>\n      <td>...</td>\n      <td>10.0</td>\n      <td>Variante 1</td>\n      <td>Wickelrohrmaschine 1531</td>\n      <td>1.0</td>\n      <td>A0 023</td>\n      <td>15.0</td>\n      <td>2.0</td>\n      <td>124.49</td>\n      <td>4.56</td>\n      <td>1531</td>\n    </tr>\n    <tr>\n      <th>3</th>\n      <td>4.0</td>\n      <td>92021530000.0</td>\n      <td>90APK004</td>\n      <td>Aluminium – Papier – Kunststoff</td>\n      <td>APK</td>\n      <td>90.0</td>\n      <td>3000.0</td>\n      <td>20.0</td>\n      <td>900.0</td>\n      <td>25.0</td>\n      <td>...</td>\n      <td>10.0</td>\n      <td>Variante 3</td>\n      <td>Wickelrohrmaschine 1531</td>\n      <td>1.0</td>\n      <td>A0 023</td>\n      <td>15.0</td>\n      <td>2.0</td>\n      <td>104.03</td>\n      <td>4.45</td>\n      <td>1531</td>\n    </tr>\n    <tr>\n      <th>4</th>\n      <td>5.0</td>\n      <td>92021539118.0</td>\n      <td>55PAP3985</td>\n      <td>Papier – Aluminium – Papier</td>\n      <td>PAP</td>\n      <td>55.0</td>\n      <td>480.0</td>\n      <td>20.0</td>\n      <td>3985.0</td>\n      <td>25.0</td>\n      <td>...</td>\n      <td>10.0</td>\n      <td>Variante 1</td>\n      <td>Wickelrohrmaschine 1535</td>\n      <td>3.0</td>\n      <td>A0 023</td>\n      <td>15.0</td>\n      <td>2.0</td>\n      <td>570.94</td>\n      <td>1.16</td>\n      <td>1535</td>\n    </tr>\n  </tbody>\n</table>\n<p>5 rows × 21 columns</p>\n</div>"
     },
     "metadata": {},
     "execution_count": 5
    }
   ],
   "source": [
    "df = parse_machine_number(df, 'Nummer Wickel-rohrmaschine')\n",
    "df.head()"
   ]
  },
  {
   "cell_type": "code",
   "execution_count": 6,
   "metadata": {
    "tags": []
   },
   "outputs": [
    {
     "output_type": "execute_result",
     "data": {
      "text/plain": "  lfd. Nr. Fertigungsauf-tragsnummer Teilenummer  \\\n0      1.0             92021412719.0   60PAP2060   \n1      2.0             92021529395.0   70AA30000   \n2      3.0             92021529919.0       80PAK   \n3      4.0             92021530000.0    90APK004   \n4      5.0             92021539118.0   55PAP3985   \n\n                       Bezeichnung Rohrtyp Nenn-durchmesser Auftragsmenge  \\\n0  Aluminium – Papier – Kunststoff     APK             75.0        1000.0   \n1            Aluminium – Aluminium      AA             70.0        3000.0   \n2  Papier – Aluminium – Kunststoff     PAK             80.0        3000.0   \n3  Aluminium – Papier – Kunststoff     APK             90.0        3000.0   \n4      Papier – Aluminium – Papier     PAP             55.0         480.0   \n\n  Auftragsmenge Artikellänge Artikellänge  ... Nummer Wickel-rohrmaschine  \\\n0           0.0       1000.0          0.0  ...    Wickelrohrmaschine 1531   \n1          34.0        900.0         30.0  ...    Wickelrohrmaschine 1531   \n2          24.0        900.0         25.0  ...    Wickelrohrmaschine 1531   \n3          20.0        900.0         25.0  ...    Wickelrohrmaschine 1531   \n4          20.0       3985.0         25.0  ...    Wickelrohrmaschine 1535   \n\n  Maschinen-gruppe Werkzeug-nummer Rüstzeit für WKZ/Materialwechsel  \\\n0              1.0          A0 023                             15.0   \n1              1.0          A0 023                             15.0   \n2              1.0          A0 023                             15.0   \n3              1.0          A0 023                             15.0   \n4              3.0          A0 023                             15.0   \n\n  Rüstzeit für Coilwechsel Maschinen-laufzeit  \\\n0                      2.0             323.96   \n1                      2.0             147.19   \n2                      2.0             124.49   \n3                      2.0             104.03   \n4                      2.0             570.94   \n\n  Fertigungszeit pro Mengeneinheit machine_id            starttime  \\\n0                             0.31       1531  2022-03-16 06:00:00   \n1                             3.89       1531  2022-03-16 11:23:00   \n2                             4.56       1531  2022-03-16 13:50:00   \n3                             4.45       1531  2022-03-16 15:54:00   \n4                             1.16       1535  2022-03-16 06:00:00   \n\n               endtime  \n0  2022-03-16 11:23:00  \n1  2022-03-16 13:50:00  \n2  2022-03-16 15:54:00  \n3  2022-03-16 17:38:00  \n4  2022-03-16 15:30:00  \n\n[5 rows x 23 columns]",
      "text/html": "<div>\n<style scoped>\n    .dataframe tbody tr th:only-of-type {\n        vertical-align: middle;\n    }\n\n    .dataframe tbody tr th {\n        vertical-align: top;\n    }\n\n    .dataframe thead th {\n        text-align: right;\n    }\n</style>\n<table border=\"1\" class=\"dataframe\">\n  <thead>\n    <tr style=\"text-align: right;\">\n      <th></th>\n      <th>lfd. Nr.</th>\n      <th>Fertigungsauf-tragsnummer</th>\n      <th>Teilenummer</th>\n      <th>Bezeichnung</th>\n      <th>Rohrtyp</th>\n      <th>Nenn-durchmesser</th>\n      <th>Auftragsmenge</th>\n      <th>Auftragsmenge</th>\n      <th>Artikellänge</th>\n      <th>Artikellänge</th>\n      <th>...</th>\n      <th>Nummer Wickel-rohrmaschine</th>\n      <th>Maschinen-gruppe</th>\n      <th>Werkzeug-nummer</th>\n      <th>Rüstzeit für WKZ/Materialwechsel</th>\n      <th>Rüstzeit für Coilwechsel</th>\n      <th>Maschinen-laufzeit</th>\n      <th>Fertigungszeit pro Mengeneinheit</th>\n      <th>machine_id</th>\n      <th>starttime</th>\n      <th>endtime</th>\n    </tr>\n  </thead>\n  <tbody>\n    <tr>\n      <th>0</th>\n      <td>1.0</td>\n      <td>92021412719.0</td>\n      <td>60PAP2060</td>\n      <td>Aluminium – Papier – Kunststoff</td>\n      <td>APK</td>\n      <td>75.0</td>\n      <td>1000.0</td>\n      <td>0.0</td>\n      <td>1000.0</td>\n      <td>0.0</td>\n      <td>...</td>\n      <td>Wickelrohrmaschine 1531</td>\n      <td>1.0</td>\n      <td>A0 023</td>\n      <td>15.0</td>\n      <td>2.0</td>\n      <td>323.96</td>\n      <td>0.31</td>\n      <td>1531</td>\n      <td>2022-03-16 06:00:00</td>\n      <td>2022-03-16 11:23:00</td>\n    </tr>\n    <tr>\n      <th>1</th>\n      <td>2.0</td>\n      <td>92021529395.0</td>\n      <td>70AA30000</td>\n      <td>Aluminium – Aluminium</td>\n      <td>AA</td>\n      <td>70.0</td>\n      <td>3000.0</td>\n      <td>34.0</td>\n      <td>900.0</td>\n      <td>30.0</td>\n      <td>...</td>\n      <td>Wickelrohrmaschine 1531</td>\n      <td>1.0</td>\n      <td>A0 023</td>\n      <td>15.0</td>\n      <td>2.0</td>\n      <td>147.19</td>\n      <td>3.89</td>\n      <td>1531</td>\n      <td>2022-03-16 11:23:00</td>\n      <td>2022-03-16 13:50:00</td>\n    </tr>\n    <tr>\n      <th>2</th>\n      <td>3.0</td>\n      <td>92021529919.0</td>\n      <td>80PAK</td>\n      <td>Papier – Aluminium – Kunststoff</td>\n      <td>PAK</td>\n      <td>80.0</td>\n      <td>3000.0</td>\n      <td>24.0</td>\n      <td>900.0</td>\n      <td>25.0</td>\n      <td>...</td>\n      <td>Wickelrohrmaschine 1531</td>\n      <td>1.0</td>\n      <td>A0 023</td>\n      <td>15.0</td>\n      <td>2.0</td>\n      <td>124.49</td>\n      <td>4.56</td>\n      <td>1531</td>\n      <td>2022-03-16 13:50:00</td>\n      <td>2022-03-16 15:54:00</td>\n    </tr>\n    <tr>\n      <th>3</th>\n      <td>4.0</td>\n      <td>92021530000.0</td>\n      <td>90APK004</td>\n      <td>Aluminium – Papier – Kunststoff</td>\n      <td>APK</td>\n      <td>90.0</td>\n      <td>3000.0</td>\n      <td>20.0</td>\n      <td>900.0</td>\n      <td>25.0</td>\n      <td>...</td>\n      <td>Wickelrohrmaschine 1531</td>\n      <td>1.0</td>\n      <td>A0 023</td>\n      <td>15.0</td>\n      <td>2.0</td>\n      <td>104.03</td>\n      <td>4.45</td>\n      <td>1531</td>\n      <td>2022-03-16 15:54:00</td>\n      <td>2022-03-16 17:38:00</td>\n    </tr>\n    <tr>\n      <th>4</th>\n      <td>5.0</td>\n      <td>92021539118.0</td>\n      <td>55PAP3985</td>\n      <td>Papier – Aluminium – Papier</td>\n      <td>PAP</td>\n      <td>55.0</td>\n      <td>480.0</td>\n      <td>20.0</td>\n      <td>3985.0</td>\n      <td>25.0</td>\n      <td>...</td>\n      <td>Wickelrohrmaschine 1535</td>\n      <td>3.0</td>\n      <td>A0 023</td>\n      <td>15.0</td>\n      <td>2.0</td>\n      <td>570.94</td>\n      <td>1.16</td>\n      <td>1535</td>\n      <td>2022-03-16 06:00:00</td>\n      <td>2022-03-16 15:30:00</td>\n    </tr>\n  </tbody>\n</table>\n<p>5 rows × 23 columns</p>\n</div>"
     },
     "metadata": {},
     "execution_count": 6
    }
   ],
   "source": [
    "def calculate_timestamps(df, start):\n",
    "    machines = df['machine_id'].astype(int).unique()\n",
    "    df = df.assign(starttime=0)\n",
    "    df = df.assign(endtime=0)\n",
    "    # Für jede Maschine \n",
    "    for machine in machines:\n",
    "        df_machine = df[df['machine_id'] == str(machine)]\n",
    "        timestamp = start\n",
    "        # Entsprechend der Reihenfolge timestamps berechnen\n",
    "        for index, row in df_machine.iterrows():\n",
    "            order_num = row['Fertigungsauf-tragsnummer']\n",
    "            if timestamp.hour > 18: # Nächster Tag\n",
    "                timestamp = datetime.datetime(timestamp.year, timestamp.month, timestamp.day+1, 6, 0, 0)\n",
    "            df.loc[df['Fertigungsauf-tragsnummer'] == order_num, ['starttime']] = timestamp\n",
    "            try:\n",
    "                prod_time = int(row['Maschinen-laufzeit'])\n",
    "            except:\n",
    "                prod_time = 60\n",
    "            timestamp = timestamp + datetime.timedelta(minutes=prod_time)\n",
    "            order_num = row['Fertigungsauf-tragsnummer']\n",
    "            df.loc[df['Fertigungsauf-tragsnummer'] == order_num, ['endtime']] = timestamp\n",
    "    return df\n",
    "            \n",
    "df = calculate_timestamps(df, datetime.datetime(2022, 3, 16, 6, 0, 0))\n",
    "df.head()"
   ]
  },
  {
   "cell_type": "code",
   "execution_count": 7,
   "metadata": {},
   "outputs": [
    {
     "output_type": "execute_result",
     "data": {
      "text/plain": "  lfd. Nr. Fertigungsauf-tragsnummer Teilenummer  \\\n0      1.0             92021412719.0   60PAP2060   \n1      2.0             92021529395.0   70AA30000   \n2      3.0             92021529919.0       80PAK   \n3      4.0             92021530000.0    90APK004   \n4      5.0             92021539118.0   55PAP3985   \n\n                       Bezeichnung Rohrtyp Nenn-durchmesser Auftragsmenge  \\\n0  Aluminium – Papier – Kunststoff     APK             75.0        1000.0   \n1            Aluminium – Aluminium      AA             70.0        3000.0   \n2  Papier – Aluminium – Kunststoff     PAK             80.0        3000.0   \n3  Aluminium – Papier – Kunststoff     APK             90.0        3000.0   \n4      Papier – Aluminium – Papier     PAP             55.0         480.0   \n\n  Auftragsmenge Artikellänge Artikellänge  ... Maschinen-gruppe  \\\n0           0.0       1000.0          0.0  ...              1.0   \n1          34.0        900.0         30.0  ...              1.0   \n2          24.0        900.0         25.0  ...              1.0   \n3          20.0        900.0         25.0  ...              1.0   \n4          20.0       3985.0         25.0  ...              3.0   \n\n  Werkzeug-nummer Rüstzeit für WKZ/Materialwechsel Rüstzeit für Coilwechsel  \\\n0          A0 023                             15.0                      2.0   \n1          A0 023                             15.0                      2.0   \n2          A0 023                             15.0                      2.0   \n3          A0 023                             15.0                      2.0   \n4          A0 023                             15.0                      2.0   \n\n  Maschinen-laufzeit Fertigungszeit pro Mengeneinheit machine_id  \\\n0             323.96                             0.31       1531   \n1             147.19                             3.89       1531   \n2             124.49                             4.56       1531   \n3             104.03                             4.45       1531   \n4             570.94                             1.16       1535   \n\n             starttime              endtime   part  \n0  2022-03-16 06:00:00  2022-03-16 11:23:00  60PAP  \n1  2022-03-16 11:23:00  2022-03-16 13:50:00   70AA  \n2  2022-03-16 13:50:00  2022-03-16 15:54:00  80PAK  \n3  2022-03-16 15:54:00  2022-03-16 17:38:00  90APK  \n4  2022-03-16 06:00:00  2022-03-16 15:30:00  55PAP  \n\n[5 rows x 24 columns]",
      "text/html": "<div>\n<style scoped>\n    .dataframe tbody tr th:only-of-type {\n        vertical-align: middle;\n    }\n\n    .dataframe tbody tr th {\n        vertical-align: top;\n    }\n\n    .dataframe thead th {\n        text-align: right;\n    }\n</style>\n<table border=\"1\" class=\"dataframe\">\n  <thead>\n    <tr style=\"text-align: right;\">\n      <th></th>\n      <th>lfd. Nr.</th>\n      <th>Fertigungsauf-tragsnummer</th>\n      <th>Teilenummer</th>\n      <th>Bezeichnung</th>\n      <th>Rohrtyp</th>\n      <th>Nenn-durchmesser</th>\n      <th>Auftragsmenge</th>\n      <th>Auftragsmenge</th>\n      <th>Artikellänge</th>\n      <th>Artikellänge</th>\n      <th>...</th>\n      <th>Maschinen-gruppe</th>\n      <th>Werkzeug-nummer</th>\n      <th>Rüstzeit für WKZ/Materialwechsel</th>\n      <th>Rüstzeit für Coilwechsel</th>\n      <th>Maschinen-laufzeit</th>\n      <th>Fertigungszeit pro Mengeneinheit</th>\n      <th>machine_id</th>\n      <th>starttime</th>\n      <th>endtime</th>\n      <th>part</th>\n    </tr>\n  </thead>\n  <tbody>\n    <tr>\n      <th>0</th>\n      <td>1.0</td>\n      <td>92021412719.0</td>\n      <td>60PAP2060</td>\n      <td>Aluminium – Papier – Kunststoff</td>\n      <td>APK</td>\n      <td>75.0</td>\n      <td>1000.0</td>\n      <td>0.0</td>\n      <td>1000.0</td>\n      <td>0.0</td>\n      <td>...</td>\n      <td>1.0</td>\n      <td>A0 023</td>\n      <td>15.0</td>\n      <td>2.0</td>\n      <td>323.96</td>\n      <td>0.31</td>\n      <td>1531</td>\n      <td>2022-03-16 06:00:00</td>\n      <td>2022-03-16 11:23:00</td>\n      <td>60PAP</td>\n    </tr>\n    <tr>\n      <th>1</th>\n      <td>2.0</td>\n      <td>92021529395.0</td>\n      <td>70AA30000</td>\n      <td>Aluminium – Aluminium</td>\n      <td>AA</td>\n      <td>70.0</td>\n      <td>3000.0</td>\n      <td>34.0</td>\n      <td>900.0</td>\n      <td>30.0</td>\n      <td>...</td>\n      <td>1.0</td>\n      <td>A0 023</td>\n      <td>15.0</td>\n      <td>2.0</td>\n      <td>147.19</td>\n      <td>3.89</td>\n      <td>1531</td>\n      <td>2022-03-16 11:23:00</td>\n      <td>2022-03-16 13:50:00</td>\n      <td>70AA</td>\n    </tr>\n    <tr>\n      <th>2</th>\n      <td>3.0</td>\n      <td>92021529919.0</td>\n      <td>80PAK</td>\n      <td>Papier – Aluminium – Kunststoff</td>\n      <td>PAK</td>\n      <td>80.0</td>\n      <td>3000.0</td>\n      <td>24.0</td>\n      <td>900.0</td>\n      <td>25.0</td>\n      <td>...</td>\n      <td>1.0</td>\n      <td>A0 023</td>\n      <td>15.0</td>\n      <td>2.0</td>\n      <td>124.49</td>\n      <td>4.56</td>\n      <td>1531</td>\n      <td>2022-03-16 13:50:00</td>\n      <td>2022-03-16 15:54:00</td>\n      <td>80PAK</td>\n    </tr>\n    <tr>\n      <th>3</th>\n      <td>4.0</td>\n      <td>92021530000.0</td>\n      <td>90APK004</td>\n      <td>Aluminium – Papier – Kunststoff</td>\n      <td>APK</td>\n      <td>90.0</td>\n      <td>3000.0</td>\n      <td>20.0</td>\n      <td>900.0</td>\n      <td>25.0</td>\n      <td>...</td>\n      <td>1.0</td>\n      <td>A0 023</td>\n      <td>15.0</td>\n      <td>2.0</td>\n      <td>104.03</td>\n      <td>4.45</td>\n      <td>1531</td>\n      <td>2022-03-16 15:54:00</td>\n      <td>2022-03-16 17:38:00</td>\n      <td>90APK</td>\n    </tr>\n    <tr>\n      <th>4</th>\n      <td>5.0</td>\n      <td>92021539118.0</td>\n      <td>55PAP3985</td>\n      <td>Papier – Aluminium – Papier</td>\n      <td>PAP</td>\n      <td>55.0</td>\n      <td>480.0</td>\n      <td>20.0</td>\n      <td>3985.0</td>\n      <td>25.0</td>\n      <td>...</td>\n      <td>3.0</td>\n      <td>A0 023</td>\n      <td>15.0</td>\n      <td>2.0</td>\n      <td>570.94</td>\n      <td>1.16</td>\n      <td>1535</td>\n      <td>2022-03-16 06:00:00</td>\n      <td>2022-03-16 15:30:00</td>\n      <td>55PAP</td>\n    </tr>\n  </tbody>\n</table>\n<p>5 rows × 24 columns</p>\n</div>"
     },
     "metadata": {},
     "execution_count": 7
    }
   ],
   "source": [
    "def preprocess_part_nr(df):\n",
    "    #df['part'] = df.apply(lambda row: row['Teilenummer'][:row['Teilenummer'].rfind('[A-Z]')],axis=1)\n",
    "    df['part'] = df.apply(lambda row: re.findall(\"[0-9]+[A-Z]+\", row['Teilenummer'])[-1], axis=1)\n",
    "    return df\n",
    "\n",
    "df = preprocess_part_nr(df)\n",
    "df.head()"
   ]
  },
  {
   "cell_type": "markdown",
   "metadata": {},
   "source": [
    "# Pm4py"
   ]
  },
  {
   "cell_type": "code",
   "execution_count": null,
   "metadata": {},
   "outputs": [],
   "source": []
  }
 ],
 "metadata": {
  "language_info": {
   "codemirror_mode": {
    "name": "ipython",
    "version": 3
   },
   "file_extension": ".py",
   "mimetype": "text/x-python",
   "name": "python",
   "nbconvert_exporter": "python",
   "pygments_lexer": "ipython3",
   "version": "3.9.6-final"
  },
  "orig_nbformat": 2,
  "kernelspec": {
   "name": "ki-marktplatz",
   "display_name": "ki-marktplatz"
  }
 },
 "nbformat": 4,
 "nbformat_minor": 2
}